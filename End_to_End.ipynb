{
  "nbformat": 4,
  "nbformat_minor": 0,
  "metadata": {
    "colab": {
      "name": "End to End.ipynb",
      "provenance": [],
      "collapsed_sections": [
        "kXxGPp2PIKL_"
      ],
      "authorship_tag": "ABX9TyP0raP4jNYxAHMGEEG5NAhX",
      "include_colab_link": true
    },
    "kernelspec": {
      "name": "python3",
      "display_name": "Python 3"
    },
    "language_info": {
      "name": "python"
    }
  },
  "cells": [
    {
      "cell_type": "markdown",
      "metadata": {
        "id": "view-in-github",
        "colab_type": "text"
      },
      "source": [
        "<a href=\"https://colab.research.google.com/github/Monoing/fullstack/blob/main/End_to_End.ipynb\" target=\"_parent\"><img src=\"https://colab.research.google.com/assets/colab-badge.svg\" alt=\"Open In Colab\"/></a>"
      ]
    },
    {
      "cell_type": "code",
      "metadata": {
        "id": "hIn89OQkl6_0"
      },
      "source": [
        "score = [10, 50, 60]\n",
        "g1, g2, g3 = score"
      ],
      "execution_count": null,
      "outputs": []
    },
    {
      "cell_type": "markdown",
      "metadata": {
        "id": "kXxGPp2PIKL_"
      },
      "source": [
        "#Function"
      ]
    },
    {
      "cell_type": "code",
      "metadata": {
        "id": "1T_kotFGmSxP"
      },
      "source": [
        "def cube(number: int) -> int:\n",
        "    assert isinstance (number, int), \"Number should be int\"\n",
        "    return number**3\n"
      ],
      "execution_count": null,
      "outputs": []
    },
    {
      "cell_type": "code",
      "metadata": {
        "colab": {
          "base_uri": "https://localhost:8080/"
        },
        "id": "8CGyk4uUIpM6",
        "outputId": "494a7d17-69d2-41f8-b491-fde5dcbe2702"
      },
      "source": [
        "cube(5)"
      ],
      "execution_count": null,
      "outputs": [
        {
          "output_type": "execute_result",
          "data": {
            "text/plain": [
              "125"
            ]
          },
          "metadata": {
            "tags": []
          },
          "execution_count": 4
        }
      ]
    },
    {
      "cell_type": "code",
      "metadata": {
        "id": "92vRWbsBI2m9"
      },
      "source": [
        "#lambda function\n",
        "#Function ไม่มีชื่อ\n",
        "cube1 = lambda number : number**3\n",
        "sum_two_num = lambda a, b : a+b"
      ],
      "execution_count": null,
      "outputs": []
    },
    {
      "cell_type": "code",
      "metadata": {
        "colab": {
          "base_uri": "https://localhost:8080/"
        },
        "id": "ixXwfJRoJ7AV",
        "outputId": "7046680c-33eb-45f3-be46-db8a03831426"
      },
      "source": [
        "sum_two_num(12,50)"
      ],
      "execution_count": null,
      "outputs": [
        {
          "output_type": "execute_result",
          "data": {
            "text/plain": [
              "62"
            ]
          },
          "metadata": {
            "tags": []
          },
          "execution_count": 9
        }
      ]
    },
    {
      "cell_type": "code",
      "metadata": {
        "id": "-s_ruGbPJ6at"
      },
      "source": [
        "#list of tuple\n",
        "cars = [('mazda',2010),\n",
        "        ('toyota',2015),\n",
        "        ('honda',2001),\n",
        "        ('mitsubishi',2002),\n",
        "        ('ford',2021)]"
      ],
      "execution_count": null,
      "outputs": []
    },
    {
      "cell_type": "code",
      "metadata": {
        "colab": {
          "base_uri": "https://localhost:8080/"
        },
        "id": "ISM_0Dg6LdUG",
        "outputId": "46f05480-88c2-46ea-989b-a438b39e5c15"
      },
      "source": [
        "cars.sort(key= lambda car:car[1] , reverse= True)\n",
        "print(cars)"
      ],
      "execution_count": null,
      "outputs": [
        {
          "output_type": "stream",
          "text": [
            "[('ford', 2021), ('toyota', 2015), ('mazda', 2010), ('mitsubishi', 2002), ('honda', 2001)]\n"
          ],
          "name": "stdout"
        }
      ]
    },
    {
      "cell_type": "code",
      "metadata": {
        "colab": {
          "base_uri": "https://localhost:8080/"
        },
        "id": "1CG2axT-Lgvk",
        "outputId": "7fa9d411-70db-4cf5-dbe4-1b36aab2b6f9"
      },
      "source": [
        "x= 10\n",
        "try:\n",
        "    print(y/0)\n",
        "except ZeroDivisionError:\n",
        "    print(\"Cannot divide by zero.\")\n",
        "except NameError:\n",
        "    print(\"Variable not define.\")\n",
        "finally:\n",
        "    print(\"It's done\")"
      ],
      "execution_count": null,
      "outputs": [
        {
          "output_type": "stream",
          "text": [
            "Variable not define.\n",
            "It's done\n"
          ],
          "name": "stdout"
        }
      ]
    },
    {
      "cell_type": "markdown",
      "metadata": {
        "id": "i9XrxpNNOW6n"
      },
      "source": [
        "#OOP"
      ]
    },
    {
      "cell_type": "code",
      "metadata": {
        "id": "p533VJkeOaK_"
      },
      "source": [
        "class Dog():\n",
        "    def __init__(self, name, age, color):\n",
        "        self.name = name\n",
        "        self.age = age\n",
        "        self.color = color\n",
        "    \n",
        "    def __str__(self):\n",
        "        return (f\"I'm a Dog class and my name is {self.name}\")\n",
        "\n",
        "    def sitting(self):\n",
        "        print(\"I'm sitting now!\")\n",
        "\n",
        "    def eatting(self, food_name):\n",
        "        print(f\"My favorite food is {food_name}.\")\n",
        "    \n",
        "    def get_older(self):\n",
        "        self.age += 1"
      ],
      "execution_count": 30,
      "outputs": []
    },
    {
      "cell_type": "code",
      "metadata": {
        "id": "fd9Myv7yaoK-"
      },
      "source": [
        "joey = Dog(\"Joey\", 10, \"black\")\n",
        "adam = Dog(\"Adam\", 5, \"White\")"
      ],
      "execution_count": 31,
      "outputs": []
    },
    {
      "cell_type": "code",
      "metadata": {
        "colab": {
          "base_uri": "https://localhost:8080/"
        },
        "id": "Sru656uyas7F",
        "outputId": "04b2ad9c-43ad-419d-e6dd-d517d8a97a18"
      },
      "source": [
        "print(joey.name)\n",
        "print(joey.color)\n",
        "print(joey.age)"
      ],
      "execution_count": 3,
      "outputs": [
        {
          "output_type": "stream",
          "text": [
            "Joey\n",
            "black\n",
            "10\n"
          ],
          "name": "stdout"
        }
      ]
    },
    {
      "cell_type": "code",
      "metadata": {
        "colab": {
          "base_uri": "https://localhost:8080/"
        },
        "id": "Z7UmN-pybXtd",
        "outputId": "4e116070-92ba-4fe0-bf16-59a9a5c1cf6c"
      },
      "source": [
        "print(adam.name)\n",
        "print(adam.color)\n",
        "print(adam.age)"
      ],
      "execution_count": 4,
      "outputs": [
        {
          "output_type": "stream",
          "text": [
            "Adam\n",
            "White\n",
            "5\n"
          ],
          "name": "stdout"
        }
      ]
    },
    {
      "cell_type": "code",
      "metadata": {
        "colab": {
          "base_uri": "https://localhost:8080/"
        },
        "id": "UBgLWIFtdnh7",
        "outputId": "4b51c1de-3384-4bc8-d4fa-a6871d91fbb5"
      },
      "source": [
        "joey.sitting()"
      ],
      "execution_count": 5,
      "outputs": [
        {
          "output_type": "stream",
          "text": [
            "I'm sitting now!\n"
          ],
          "name": "stdout"
        }
      ]
    },
    {
      "cell_type": "code",
      "metadata": {
        "colab": {
          "base_uri": "https://localhost:8080/"
        },
        "id": "hWmstGsCetJK",
        "outputId": "4f3ddcb6-7964-41d6-9afa-60c44f3cfbd2"
      },
      "source": [
        "joey.eatting(\"pizza\")"
      ],
      "execution_count": 10,
      "outputs": [
        {
          "output_type": "stream",
          "text": [
            "My favorite food is pizza.\n"
          ],
          "name": "stdout"
        }
      ]
    },
    {
      "cell_type": "code",
      "metadata": {
        "id": "lK0hcWRRfGYC",
        "colab": {
          "base_uri": "https://localhost:8080/"
        },
        "outputId": "28c8bf49-ff09-4cfd-d6ce-1317cb46aeae"
      },
      "source": [
        "joey.get_older()\n",
        "print(joey.age)"
      ],
      "execution_count": 18,
      "outputs": [
        {
          "output_type": "stream",
          "text": [
            "11\n"
          ],
          "name": "stdout"
        }
      ]
    },
    {
      "cell_type": "code",
      "metadata": {
        "colab": {
          "base_uri": "https://localhost:8080/"
        },
        "id": "6yVIbCVmyIvh",
        "outputId": "dbd10bc4-0d06-4fb0-b675-1476ca0fd32e"
      },
      "source": [
        "print(joey)"
      ],
      "execution_count": 32,
      "outputs": [
        {
          "output_type": "stream",
          "text": [
            "I'm a Dog class and my name is Joey\n"
          ],
          "name": "stdout"
        }
      ]
    },
    {
      "cell_type": "code",
      "metadata": {
        "id": "OZY-tST8ztUP"
      },
      "source": [
        ""
      ],
      "execution_count": null,
      "outputs": []
    },
    {
      "cell_type": "markdown",
      "metadata": {
        "id": "DFc39nlQ08PX"
      },
      "source": [
        "#ATM\n",
        "-Attributes => Balance\n",
        "\n",
        "-Method => deposit, withdraw, check balance"
      ]
    },
    {
      "cell_type": "code",
      "metadata": {
        "id": "RO3syOWA0-w2"
      },
      "source": [
        "import random\n",
        "\n",
        "class ATM():\n",
        "    def __init__(self, account_name, initial):\n",
        "        self.account_name = account_name\n",
        "        self.balance = initial\n",
        "    \n",
        "    def __str__(self):\n",
        "        return (f\"Your account name :{self.account_name}\")\n",
        "\n",
        "    def check_balnce(self):\n",
        "        print(f\"Your balance : {self.balance}\")\n",
        "\n",
        "    def deposit(self, money):\n",
        "        self.balance += money\n",
        "\n",
        "    def withdraw(self, money):\n",
        "        if money > self.balance:\n",
        "            print(f\"Your balance: {self.balance} is not enough.\")\n",
        "        else:\n",
        "            print(\"Success\")\n",
        "            self.balance -= money\n",
        "\n",
        "    def online_withdraw(self, money):\n",
        "        if money > self.balance:\n",
        "            print(f\"Error: Your balance is not enough.\")\n",
        "        else:\n",
        "            OTP = random.randint(10000,99999)\n",
        "            print(OTP)\n",
        "            user_input = int(input(\"Please type your OTP:\"))\n",
        "            if (user_input == OTP):\n",
        "                print(\"Success\")\n",
        "                self.balance -= money\n",
        "            else:\n",
        "                print(\"Your OTP is incorrect. Please try again\")\n"
      ],
      "execution_count": 103,
      "outputs": []
    },
    {
      "cell_type": "code",
      "metadata": {
        "id": "Slo4R67tCAtz"
      },
      "source": [
        "my_atm = ATM(\"Benz\",5000)"
      ],
      "execution_count": 108,
      "outputs": []
    },
    {
      "cell_type": "code",
      "metadata": {
        "colab": {
          "base_uri": "https://localhost:8080/"
        },
        "id": "TuVdPUh9C76q",
        "outputId": "74230ae8-e2a1-4508-bc33-7226fdde256e"
      },
      "source": [
        "print(my_atm)\n",
        "print(my_atm.account_name)\n",
        "print(my_atm.balance)"
      ],
      "execution_count": 109,
      "outputs": [
        {
          "output_type": "stream",
          "text": [
            "Your account name :Benz\n",
            "Benz\n",
            "5000\n"
          ],
          "name": "stdout"
        }
      ]
    },
    {
      "cell_type": "code",
      "metadata": {
        "colab": {
          "base_uri": "https://localhost:8080/"
        },
        "id": "Id28QVDfI8vz",
        "outputId": "32552566-fc65-4909-ad6c-c0c24b7fa716"
      },
      "source": [
        "my_atm.deposit(1000)\n",
        "my_atm.withdraw(500)\n",
        "my_atm.check_balnce()"
      ],
      "execution_count": 110,
      "outputs": [
        {
          "output_type": "stream",
          "text": [
            "Success\n",
            "Your balance : 5500\n"
          ],
          "name": "stdout"
        }
      ]
    },
    {
      "cell_type": "code",
      "metadata": {
        "colab": {
          "base_uri": "https://localhost:8080/"
        },
        "id": "qY-4OSOIJX05",
        "outputId": "f482e06c-58c6-4d3a-9c42-ad9999efa4a9"
      },
      "source": [
        "my_atm.online_withdraw(600)\n",
        "my_atm.check_balnce()"
      ],
      "execution_count": 111,
      "outputs": [
        {
          "output_type": "stream",
          "text": [
            "20611\n",
            "Please type your OTP:20611\n",
            "Success\n",
            "Your balance : 4900\n"
          ],
          "name": "stdout"
        }
      ]
    },
    {
      "cell_type": "code",
      "metadata": {
        "id": "EdOGPnEoJdMu"
      },
      "source": [
        ""
      ],
      "execution_count": null,
      "outputs": []
    },
    {
      "cell_type": "markdown",
      "metadata": {
        "id": "9k40xOyvKXF4"
      },
      "source": [
        "#Pandas"
      ]
    },
    {
      "cell_type": "code",
      "metadata": {
        "id": "BPglUFURLSyl"
      },
      "source": [
        "import numpy as np\n",
        "import pandas as pd\n"
      ],
      "execution_count": 112,
      "outputs": []
    },
    {
      "cell_type": "code",
      "metadata": {
        "colab": {
          "base_uri": "https://localhost:8080/"
        },
        "id": "rmz8DGZPLe-1",
        "outputId": "0cc6f2af-7d63-44cc-827a-e7fc8cb8bd77"
      },
      "source": [
        "!pwd"
      ],
      "execution_count": 113,
      "outputs": [
        {
          "output_type": "stream",
          "text": [
            "/content\n"
          ],
          "name": "stdout"
        }
      ]
    },
    {
      "cell_type": "code",
      "metadata": {
        "colab": {
          "base_uri": "https://localhost:8080/"
        },
        "id": "ZHCQjdjoLvHb",
        "outputId": "60e7473c-12f5-470d-f3fd-2af786a248cb"
      },
      "source": [
        "!ls sample_data/"
      ],
      "execution_count": 114,
      "outputs": [
        {
          "output_type": "stream",
          "text": [
            "anscombe.json\t\t      mnist_test.csv\n",
            "california_housing_test.csv   mnist_train_small.csv\n",
            "california_housing_train.csv  README.md\n"
          ],
          "name": "stdout"
        }
      ]
    },
    {
      "cell_type": "code",
      "metadata": {
        "id": "nlnY2rvILytz"
      },
      "source": [
        "!pip list"
      ],
      "execution_count": null,
      "outputs": []
    },
    {
      "cell_type": "code",
      "metadata": {
        "colab": {
          "base_uri": "https://localhost:8080/"
        },
        "id": "lrKGJbFQL3ak",
        "outputId": "f8dd3270-33b7-4a0f-f0cb-2a78e54f8b0a"
      },
      "source": [
        "numbers = [1, 2, 3, 4, 5]\n",
        "numbers = np.array(numbers)\n",
        "print(numbers)\n",
        "print(type(numbers))"
      ],
      "execution_count": 118,
      "outputs": [
        {
          "output_type": "stream",
          "text": [
            "[1 2 3 4 5]\n",
            "<class 'numpy.ndarray'>\n"
          ],
          "name": "stdout"
        }
      ]
    },
    {
      "cell_type": "code",
      "metadata": {
        "colab": {
          "base_uri": "https://localhost:8080/"
        },
        "id": "7P0Q-FTRMwFL",
        "outputId": "e857856b-3568-4833-af0e-591e473f6912"
      },
      "source": [
        "numbers.mean()"
      ],
      "execution_count": 119,
      "outputs": [
        {
          "output_type": "execute_result",
          "data": {
            "text/plain": [
              "3.0"
            ]
          },
          "metadata": {
            "tags": []
          },
          "execution_count": 119
        }
      ]
    },
    {
      "cell_type": "code",
      "metadata": {
        "id": "_-xTBiWhM_PJ"
      },
      "source": [
        ""
      ],
      "execution_count": null,
      "outputs": []
    }
  ]
}