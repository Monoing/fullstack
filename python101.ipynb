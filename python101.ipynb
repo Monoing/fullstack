{
  "nbformat": 4,
  "nbformat_minor": 0,
  "metadata": {
    "colab": {
      "name": "python101.ipynb",
      "provenance": [],
      "authorship_tag": "ABX9TyOdceXzgQiRsxaG9L+PATJ5",
      "include_colab_link": true
    },
    "kernelspec": {
      "name": "python3",
      "display_name": "Python 3"
    }
  },
  "cells": [
    {
      "cell_type": "markdown",
      "metadata": {
        "id": "view-in-github",
        "colab_type": "text"
      },
      "source": [
        "<a href=\"https://colab.research.google.com/github/Monoing/fullstack/blob/main/python101.ipynb\" target=\"_parent\"><img src=\"https://colab.research.google.com/assets/colab-badge.svg\" alt=\"Open In Colab\"/></a>"
      ]
    },
    {
      "cell_type": "markdown",
      "metadata": {
        "id": "sUiHEB_TrKFi"
      },
      "source": [
        "# **Into python 101**\n",
        "- variable\n",
        "\n",
        "- data type\n",
        "\n",
        "- data structure: list, tuple\n",
        "\n",
        "- function\n",
        "\n"
      ]
    },
    {
      "cell_type": "code",
      "metadata": {
        "colab": {
          "base_uri": "https://localhost:8080/"
        },
        "id": "DWOTiRs3rDk2",
        "outputId": "e5dda985-7ffd-47cb-e0bd-176fef822e0f"
      },
      "source": [
        "#basic calculation\n",
        "print(1+1)\n",
        "print(2*2)\n",
        "print(10-2)\n",
        "print(5/2)\n",
        "print(5//2) ##floor division เอา ส่วน\n",
        "print(5**3) ##power\n",
        "print(9 % 2) ## mod เอา เศ๋ษ\n"
      ],
      "execution_count": null,
      "outputs": [
        {
          "output_type": "stream",
          "text": [
            "2\n",
            "4\n",
            "8\n",
            "2.5\n",
            "2\n",
            "125\n",
            "1\n"
          ],
          "name": "stdout"
        }
      ]
    },
    {
      "cell_type": "markdown",
      "metadata": {
        "id": "JK6qLDlzszPp"
      },
      "source": [
        "# **Variable**"
      ]
    },
    {
      "cell_type": "code",
      "metadata": {
        "id": "1kZs44bDs6do"
      },
      "source": [
        "#variable assigment\n",
        "salary = 50000\n",
        "expanse = 34000\n",
        "saving = salary - expanse"
      ],
      "execution_count": null,
      "outputs": []
    },
    {
      "cell_type": "code",
      "metadata": {
        "colab": {
          "base_uri": "https://localhost:8080/"
        },
        "id": "5lJD-U1euMNQ",
        "outputId": "d4ead437-130d-47f7-c061-5c5b4fe5dade"
      },
      "source": [
        "print(f\"saving = {saving} \")"
      ],
      "execution_count": null,
      "outputs": [
        {
          "output_type": "stream",
          "text": [
            "saving = 16000 \n"
          ],
          "name": "stdout"
        }
      ]
    },
    {
      "cell_type": "code",
      "metadata": {
        "id": "Uvp0LeT-urH2"
      },
      "source": [
        "#delete variable\n",
        "# del saving"
      ],
      "execution_count": null,
      "outputs": []
    },
    {
      "cell_type": "code",
      "metadata": {
        "colab": {
          "base_uri": "https://localhost:8080/"
        },
        "id": "iVQ63tSXvQLF",
        "outputId": "81c8c0fc-a69b-4a70-822a-9fa9cb4b13dd"
      },
      "source": [
        "## tuple unpacking (multiple assigment)\n",
        "my_name, my_salary, my_expanse = \"Benz\", 50000, 34000\n",
        "print(my_name)\n",
        "print(my_salary)\n",
        "print(my_expanse)"
      ],
      "execution_count": null,
      "outputs": [
        {
          "output_type": "stream",
          "text": [
            "Benz\n",
            "50000\n",
            "34000\n"
          ],
          "name": "stdout"
        }
      ]
    },
    {
      "cell_type": "markdown",
      "metadata": {
        "id": "qH_IgTAwwQzl"
      },
      "source": [
        "# String"
      ]
    },
    {
      "cell_type": "code",
      "metadata": {
        "colab": {
          "base_uri": "https://localhost:8080/"
        },
        "id": "KzQYkgtKwY0M",
        "outputId": "01f0ab0a-d39d-466d-a4c7-b6e7ebc2505a"
      },
      "source": [
        "name = 'benz'\n",
        "print(name)\n",
        "text = \"I'm learning python\"\n",
        "print(text)\n",
        "text2 = 'I am learning \"python\"'\n",
        "print(text2)\n",
        "text3 = 'I\\'m learning \\'python\\'' ## escaping character \\\n",
        "print(text3)\n",
        "text4 = \"\"\" This is very long string\n",
        "This is very long stringThis is very long string\n",
        "This is very long string \"\"\"\n",
        "print(text4)\n"
      ],
      "execution_count": null,
      "outputs": [
        {
          "output_type": "stream",
          "text": [
            "benz\n",
            "I'm learning python\n",
            "I am learning \"python\"\n",
            "I'm learning 'python'\n",
            " This is very long string\n",
            "This is very long stringThis is very long string\n",
            "This is very long string \n"
          ],
          "name": "stdout"
        }
      ]
    },
    {
      "cell_type": "code",
      "metadata": {
        "colab": {
          "base_uri": "https://localhost:8080/"
        },
        "id": "swLnIH0Gx8bE",
        "outputId": "5ce65511-1fac-4e1f-9ef2-d004eccaf1fc"
      },
      "source": [
        "#print string\n",
        "print(\"Hello\", \"Wolrd\", \"Python\")"
      ],
      "execution_count": null,
      "outputs": [
        {
          "output_type": "stream",
          "text": [
            "Hello Wolrd Python\n"
          ],
          "name": "stdout"
        }
      ]
    },
    {
      "cell_type": "code",
      "metadata": {
        "colab": {
          "base_uri": "https://localhost:8080/",
          "height": 34
        },
        "id": "6Uz9TJMEyK9L",
        "outputId": "3fc6b483-7c3c-40d4-b733-cd037104a25b"
      },
      "source": [
        "\"Hello\" + \" world\""
      ],
      "execution_count": null,
      "outputs": [
        {
          "output_type": "execute_result",
          "data": {
            "application/vnd.google.colaboratory.intrinsic+json": {
              "type": "string"
            },
            "text/plain": [
              "'Hello world'"
            ]
          },
          "metadata": {
            "tags": []
          },
          "execution_count": 33
        }
      ]
    },
    {
      "cell_type": "code",
      "metadata": {
        "colab": {
          "base_uri": "https://localhost:8080/"
        },
        "id": "t_Ic25RbyWQK",
        "outputId": "3af76355-36f8-411f-b634-436d83d2fa92"
      },
      "source": [
        "#fstring\n",
        "my_name = \"Benz\"\n",
        "my_age  = 26\n",
        "\n",
        "text = f\"Hello! my name is {my_name} and I am {my_age} years old.\"\n",
        "print(text)"
      ],
      "execution_count": null,
      "outputs": [
        {
          "output_type": "stream",
          "text": [
            "Hello! my name is Benz and I am 26 years old.\n"
          ],
          "name": "stdout"
        }
      ]
    },
    {
      "cell_type": "code",
      "metadata": {
        "colab": {
          "base_uri": "https://localhost:8080/",
          "height": 34
        },
        "id": "WzzlPov3zFcd",
        "outputId": "5ead78bc-3829-448e-d386-8b87a1e9b129"
      },
      "source": [
        "# method = function design for specific class\n",
        "#string method\n",
        "\n",
        "text = \"a duck walks into a bar.\"\n",
        "text.upper()"
      ],
      "execution_count": 1,
      "outputs": [
        {
          "output_type": "execute_result",
          "data": {
            "application/vnd.google.colaboratory.intrinsic+json": {
              "type": "string"
            },
            "text/plain": [
              "'A DUCK WALKS INTO A BAR.'"
            ]
          },
          "metadata": {
            "tags": []
          },
          "execution_count": 1
        }
      ]
    },
    {
      "cell_type": "code",
      "metadata": {
        "colab": {
          "base_uri": "https://localhost:8080/",
          "height": 34
        },
        "id": "dlIKxPi1zhN4",
        "outputId": "d435ba45-4d53-4fe3-ad3b-13c7d338109f"
      },
      "source": [
        "text.capitalize()"
      ],
      "execution_count": null,
      "outputs": [
        {
          "output_type": "execute_result",
          "data": {
            "application/vnd.google.colaboratory.intrinsic+json": {
              "type": "string"
            },
            "text/plain": [
              "'A duck walks into a bar.'"
            ]
          },
          "metadata": {
            "tags": []
          },
          "execution_count": 37
        }
      ]
    },
    {
      "cell_type": "code",
      "metadata": {
        "colab": {
          "base_uri": "https://localhost:8080/"
        },
        "id": "LFQgR5sczlI0",
        "outputId": "cdfd6b71-f749-4d93-db82-fd2b9ce6bb6f"
      },
      "source": [
        "text.count(\"a\")"
      ],
      "execution_count": null,
      "outputs": [
        {
          "output_type": "execute_result",
          "data": {
            "text/plain": [
              "4"
            ]
          },
          "metadata": {
            "tags": []
          },
          "execution_count": 39
        }
      ]
    },
    {
      "cell_type": "code",
      "metadata": {
        "colab": {
          "base_uri": "https://localhost:8080/",
          "height": 34
        },
        "id": "Ydm-foKyzvQ4",
        "outputId": "f689ac71-ccbd-4536-9f4a-271dba5fa0ed"
      },
      "source": [
        "text.replace(\"duck\",\"chicken\")"
      ],
      "execution_count": null,
      "outputs": [
        {
          "output_type": "execute_result",
          "data": {
            "application/vnd.google.colaboratory.intrinsic+json": {
              "type": "string"
            },
            "text/plain": [
              "'a chicken walks into a bar.'"
            ]
          },
          "metadata": {
            "tags": []
          },
          "execution_count": 40
        }
      ]
    },
    {
      "cell_type": "code",
      "metadata": {
        "colab": {
          "base_uri": "https://localhost:8080/"
        },
        "id": "QvKK-Hm1tKvY",
        "outputId": "583059ae-468c-446a-9e13-873312908dc7"
      },
      "source": [
        "tokens = text.split(\" \")\n",
        "print(tokens)"
      ],
      "execution_count": 2,
      "outputs": [
        {
          "output_type": "stream",
          "text": [
            "['a', 'duck', 'walks', 'into', 'a', 'bar.']\n"
          ],
          "name": "stdout"
        }
      ]
    },
    {
      "cell_type": "code",
      "metadata": {
        "colab": {
          "base_uri": "https://localhost:8080/"
        },
        "id": "y-Mm-gh1tYph",
        "outputId": "21c7fef2-f2a9-48d0-d4d1-0cf0303d2690"
      },
      "source": [
        "text = \" \".join(tokens)\n",
        "print(text)"
      ],
      "execution_count": 4,
      "outputs": [
        {
          "output_type": "stream",
          "text": [
            "a duck walks into a bar.\n"
          ],
          "name": "stdout"
        }
      ]
    },
    {
      "cell_type": "markdown",
      "metadata": {
        "id": "BYBgvvau0MnQ"
      },
      "source": [
        "# **Data type**\n",
        "- int\n",
        "- float\n",
        "- string\n",
        "- bool (boolean)"
      ]
    },
    {
      "cell_type": "code",
      "metadata": {
        "colab": {
          "base_uri": "https://localhost:8080/"
        },
        "id": "25qd0w2E9eGx",
        "outputId": "740ad176-104e-44c4-806f-ef7e75f76807"
      },
      "source": [
        "#int \n",
        "x = 100\n",
        "type(x)"
      ],
      "execution_count": null,
      "outputs": [
        {
          "output_type": "execute_result",
          "data": {
            "text/plain": [
              "int"
            ]
          },
          "metadata": {
            "tags": []
          },
          "execution_count": 41
        }
      ]
    },
    {
      "cell_type": "code",
      "metadata": {
        "colab": {
          "base_uri": "https://localhost:8080/"
        },
        "id": "n45ksD8V9qEo",
        "outputId": "86700a84-5172-4ccc-8428-4ae47348fdf5"
      },
      "source": [
        "#float\n",
        "x = 1.5\n",
        "type(x)"
      ],
      "execution_count": null,
      "outputs": [
        {
          "output_type": "execute_result",
          "data": {
            "text/plain": [
              "float"
            ]
          },
          "metadata": {
            "tags": []
          },
          "execution_count": 42
        }
      ]
    },
    {
      "cell_type": "code",
      "metadata": {
        "colab": {
          "base_uri": "https://localhost:8080/"
        },
        "id": "YJ5-5kjt9vIo",
        "outputId": "7763f0b1-e1f3-4c7a-9001-ceb10654077a"
      },
      "source": [
        "#string\n",
        "text = \"hello\"\n",
        "type(text)"
      ],
      "execution_count": null,
      "outputs": [
        {
          "output_type": "execute_result",
          "data": {
            "text/plain": [
              "str"
            ]
          },
          "metadata": {
            "tags": []
          },
          "execution_count": 43
        }
      ]
    },
    {
      "cell_type": "code",
      "metadata": {
        "colab": {
          "base_uri": "https://localhost:8080/"
        },
        "id": "fnBwhV0i92SB",
        "outputId": "dd7d6ab2-0ecd-4886-996c-6294290bdc6d"
      },
      "source": [
        "#bool\n",
        "print(10*2 == 20)\n",
        "print(10*2 > 30)\n",
        "print(\"Hello\" != \"hello\")"
      ],
      "execution_count": null,
      "outputs": [
        {
          "output_type": "stream",
          "text": [
            "True\n",
            "False\n",
            "True\n"
          ],
          "name": "stdout"
        }
      ]
    },
    {
      "cell_type": "markdown",
      "metadata": {
        "id": "p-j4WZnP-VqI"
      },
      "source": [
        "# **Data Structure**\n",
        "- list [ ] mutable\n",
        "- tuple ( ) immutable\n",
        "- dictionary { } immutable\n",
        "- set"
      ]
    },
    {
      "cell_type": "code",
      "metadata": {
        "colab": {
          "base_uri": "https://localhost:8080/"
        },
        "id": "8mN15BCT-dCb",
        "outputId": "1497d0ab-2e4c-4905-acc7-37e4b2754caa"
      },
      "source": [
        "#create a new list\n",
        "fruits  = [\"apple\", \"orange\", \"pineapple\", \"grape\"] #เก็บอะไรก็ได้ int, float, str, bool\n",
        "fruits\n"
      ],
      "execution_count": 5,
      "outputs": [
        {
          "output_type": "execute_result",
          "data": {
            "text/plain": [
              "['apple', 'orange', 'pineapple', 'grape']"
            ]
          },
          "metadata": {
            "tags": []
          },
          "execution_count": 5
        }
      ]
    },
    {
      "cell_type": "code",
      "metadata": {
        "colab": {
          "base_uri": "https://localhost:8080/"
        },
        "id": "Nlkjfq3a_BTn",
        "outputId": "163a1bfb-1cfb-4dae-fc86-0b5fc2785475"
      },
      "source": [
        "print(fruits[0])\n",
        "print(fruits[-1])"
      ],
      "execution_count": null,
      "outputs": [
        {
          "output_type": "stream",
          "text": [
            "apple\n",
            "grape\n"
          ],
          "name": "stdout"
        }
      ]
    },
    {
      "cell_type": "code",
      "metadata": {
        "colab": {
          "base_uri": "https://localhost:8080/"
        },
        "id": "di_0H9TZ_N-d",
        "outputId": "6f53c935-8fc4-4aed-e74d-59e81e130cef"
      },
      "source": [
        "print(fruits[:])\n",
        "print(fruits[:2])\n",
        "print(fruits[1:3])\n",
        "print(fruits[1:])"
      ],
      "execution_count": null,
      "outputs": [
        {
          "output_type": "stream",
          "text": [
            "['apple', 'orange', 'pineapple', 'grape']\n",
            "['apple', 'orange']\n",
            "['orange', 'pineapple']\n",
            "['orange', 'pineapple', 'grape']\n"
          ],
          "name": "stdout"
        }
      ]
    },
    {
      "cell_type": "code",
      "metadata": {
        "colab": {
          "base_uri": "https://localhost:8080/"
        },
        "id": "DTGn3r3t_4kF",
        "outputId": "93d81264-8b87-4d29-8789-b4552bee5998"
      },
      "source": [
        "## add strawberry at the end of fruit\n",
        "fruits.append(\"strawberry\")\n",
        "print(fruits)"
      ],
      "execution_count": 7,
      "outputs": [
        {
          "output_type": "stream",
          "text": [
            "['apple', 'orange', 'pineapple', 'grape', 'strawberry', 'strawberry']\n"
          ],
          "name": "stdout"
        }
      ]
    },
    {
      "cell_type": "code",
      "metadata": {
        "id": "IE9jjdpmu_ve",
        "outputId": "76da914a-c0a4-4580-bb5e-4906575496ad",
        "colab": {
          "base_uri": "https://localhost:8080/"
        }
      },
      "source": [
        "fruits = fruits + [\"mango\", \"water mellon\"]\n",
        "print(fruits)"
      ],
      "execution_count": 8,
      "outputs": [
        {
          "output_type": "stream",
          "text": [
            "['apple', 'orange', 'pineapple', 'grape', 'strawberry', 'strawberry', 'mango', 'water mellon']\n"
          ],
          "name": "stdout"
        }
      ]
    },
    {
      "cell_type": "code",
      "metadata": {
        "id": "4uJYY-rAvUNs",
        "outputId": "f998f397-3127-44ae-e23f-7cd9ee17fff4",
        "colab": {
          "base_uri": "https://localhost:8080/"
        }
      },
      "source": [
        "\"mango\" in fruits"
      ],
      "execution_count": 9,
      "outputs": [
        {
          "output_type": "execute_result",
          "data": {
            "text/plain": [
              "True"
            ]
          },
          "metadata": {
            "tags": []
          },
          "execution_count": 9
        }
      ]
    },
    {
      "cell_type": "code",
      "metadata": {
        "id": "ctVbltdxvbc6",
        "outputId": "7e017719-f008-4beb-91ff-7d11c0a8ed40",
        "colab": {
          "base_uri": "https://localhost:8080/"
        }
      },
      "source": [
        "\"Mango\" in  fruits"
      ],
      "execution_count": 10,
      "outputs": [
        {
          "output_type": "execute_result",
          "data": {
            "text/plain": [
              "False"
            ]
          },
          "metadata": {
            "tags": []
          },
          "execution_count": 10
        }
      ]
    },
    {
      "cell_type": "code",
      "metadata": {
        "id": "YX-_d6H-vgSz",
        "outputId": "09439bf8-7ac1-4533-b9a2-b94bdf8ed521",
        "colab": {
          "base_uri": "https://localhost:8080/"
        }
      },
      "source": [
        "fruit = \"mango\"\n",
        "\n",
        "if fruit in fruits:\n",
        "    print(f\"{fruit} is in our list\")\n",
        "else:\n",
        "    print(f\"Not found {fruit}\")"
      ],
      "execution_count": 13,
      "outputs": [
        {
          "output_type": "stream",
          "text": [
            "mango is in our list\n"
          ],
          "name": "stdout"
        }
      ]
    },
    {
      "cell_type": "code",
      "metadata": {
        "colab": {
          "base_uri": "https://localhost:8080/"
        },
        "id": "34ekfPgzAVSl",
        "outputId": "7e52b906-117f-4616-cfcb-ff79fd4b3596"
      },
      "source": [
        "fruits.remove(\"orange\")\n",
        "print(fruit)"
      ],
      "execution_count": null,
      "outputs": [
        {
          "output_type": "stream",
          "text": [
            "['apple', 'orange', 'pineapple', 'grape', 'strawberry']\n"
          ],
          "name": "stdout"
        }
      ]
    },
    {
      "cell_type": "code",
      "metadata": {
        "colab": {
          "base_uri": "https://localhost:8080/"
        },
        "id": "Jdzp5ohBAgej",
        "outputId": "90b19fed-eb60-421e-8d3d-7ee7410d0169"
      },
      "source": [
        "fruits.insert(1, \"orange\")\n",
        "print(fruit)"
      ],
      "execution_count": null,
      "outputs": [
        {
          "output_type": "stream",
          "text": [
            "['apple', 'orange', 'pineapple', 'grape', 'strawberry']\n"
          ],
          "name": "stdout"
        }
      ]
    },
    {
      "cell_type": "code",
      "metadata": {
        "colab": {
          "base_uri": "https://localhost:8080/"
        },
        "id": "ZAemulvSAvFU",
        "outputId": "a075e138-8709-41c0-f95b-27d2f1e510f4"
      },
      "source": [
        "# for loop (Control flow)\n",
        "len(fruit)\n",
        "\n",
        "for fruit in fruits:\n",
        "    print(fruit.upper())"
      ],
      "execution_count": null,
      "outputs": [
        {
          "output_type": "stream",
          "text": [
            "APPLE\n",
            "ORANGE\n",
            "PINEAPPLE\n",
            "GRAPE\n",
            "STRAWBERRY\n"
          ],
          "name": "stdout"
        }
      ]
    },
    {
      "cell_type": "code",
      "metadata": {
        "id": "1o7SrMeKBmNL"
      },
      "source": [
        "fruit_uppercase = []"
      ],
      "execution_count": 14,
      "outputs": []
    },
    {
      "cell_type": "code",
      "metadata": {
        "colab": {
          "base_uri": "https://localhost:8080/"
        },
        "id": "YECvz16yBqYA",
        "outputId": "1d1dc7f8-3cb8-4c9b-c0b1-7159489b532d"
      },
      "source": [
        "for fruit in fruits:\n",
        "    x = fruit.upper()\n",
        "    fruit_uppercase.append(x)\n",
        "\n",
        "print(fruit_uppercase)"
      ],
      "execution_count": 15,
      "outputs": [
        {
          "output_type": "stream",
          "text": [
            "['APPLE', 'ORANGE', 'PINEAPPLE', 'GRAPE', 'STRAWBERRY', 'STRAWBERRY', 'MANGO', 'WATER MELLON']\n"
          ],
          "name": "stdout"
        }
      ]
    },
    {
      "cell_type": "code",
      "metadata": {
        "id": "VNm5MXB8wk2q",
        "outputId": "961e46ab-f096-47fe-d2b4-15ce2c789e04",
        "colab": {
          "base_uri": "https://localhost:8080/"
        }
      },
      "source": [
        "# list comprehension\n",
        "\n",
        "fruit_upper_v2 = [fruit.upper() for fruit in fruits]\n",
        "print(fruit_upper_v2)"
      ],
      "execution_count": 17,
      "outputs": [
        {
          "output_type": "stream",
          "text": [
            "['APPLE', 'ORANGE', 'PINEAPPLE', 'GRAPE', 'STRAWBERRY', 'STRAWBERRY', 'MANGO', 'WATER MELLON']\n"
          ],
          "name": "stdout"
        }
      ]
    },
    {
      "cell_type": "code",
      "metadata": {
        "id": "LbDc_DHVxtcR",
        "outputId": "d9404019-502f-4ea4-bbf7-8a7d855d02b1",
        "colab": {
          "base_uri": "https://localhost:8080/"
        }
      },
      "source": [
        "# update value in list \n",
        "fruits[1] = \"papaya\"\n",
        "fruits"
      ],
      "execution_count": 18,
      "outputs": [
        {
          "output_type": "execute_result",
          "data": {
            "text/plain": [
              "['apple',\n",
              " 'papaya',\n",
              " 'pineapple',\n",
              " 'grape',\n",
              " 'strawberry',\n",
              " 'strawberry',\n",
              " 'mango',\n",
              " 'water mellon']"
            ]
          },
          "metadata": {
            "tags": []
          },
          "execution_count": 18
        }
      ]
    },
    {
      "cell_type": "code",
      "metadata": {
        "id": "MBqi1l-oyUx_",
        "outputId": "43a1cda5-7ca8-48b8-8071-07f9d380e558",
        "colab": {
          "base_uri": "https://localhost:8080/"
        }
      },
      "source": [
        "# string is immutable\n",
        "\n",
        "text = \"Python\"\n",
        "text = \"T\" + text[1:]\n",
        "print(text) \n",
        "text2 = \"Hello world\"\n",
        "text2 = text2[0:6] + \"Mars\"\n",
        "print(text2)\n",
        "text3 = text2.split(\" \")\n",
        "text = text3[0] + \" world\"\n",
        "print(text)"
      ],
      "execution_count": 26,
      "outputs": [
        {
          "output_type": "stream",
          "text": [
            "Tython\n",
            "Hello Mars\n",
            "Hello world\n"
          ],
          "name": "stdout"
        }
      ]
    },
    {
      "cell_type": "code",
      "metadata": {
        "colab": {
          "base_uri": "https://localhost:8080/"
        },
        "id": "fdp24qQ8Er5T",
        "outputId": "03eff10e-565e-4f2f-de6b-0e179d7dac10"
      },
      "source": [
        "## tuple อัปเดทค่าไม่ได้ immutable, work like list\n",
        "gpa = (3.5, 3.4, 3.89)\n",
        "print(gpa)\n",
        "print(gpa[0])\n",
        "print(gpa[1:])\n",
        "print(type(gpa))\n",
        "score = ()\n",
        "print(type(score))"
      ],
      "execution_count": 30,
      "outputs": [
        {
          "output_type": "stream",
          "text": [
            "(3.5, 3.4, 3.89)\n",
            "3.5\n",
            "(3.4, 3.89)\n",
            "<class 'tuple'>\n",
            "<class 'tuple'>\n"
          ],
          "name": "stdout"
        }
      ]
    },
    {
      "cell_type": "code",
      "metadata": {
        "id": "EOtu7bH18CIF",
        "outputId": "d339f187-ee89-4fcb-956a-df94991ce2ed",
        "colab": {
          "base_uri": "https://localhost:8080/"
        }
      },
      "source": [
        "A, B, C = gpa ## tuple assignment\n",
        "print(A)"
      ],
      "execution_count": 31,
      "outputs": [
        {
          "output_type": "stream",
          "text": [
            "3.5\n"
          ],
          "name": "stdout"
        }
      ]
    },
    {
      "cell_type": "code",
      "metadata": {
        "id": "HW9lP5Af8V8s",
        "outputId": "2bc21886-42d3-43cb-bd52-9505e32e09be",
        "colab": {
          "base_uri": "https://localhost:8080/"
        }
      },
      "source": [
        "# dictionary key-value pairs\n",
        "# mutable + unordered\n",
        "cars = {\n",
        "    \"brand\": \"Mazda\",\n",
        "    \"Model\": \"Mazda 2\", \n",
        "    \"year\": 2016, \n",
        "    \"door\": 5,\n",
        "    \"Accessories\": [\"Bose audio\",\"Light\", \"skirt\"]\n",
        "}\n",
        "print(cars)"
      ],
      "execution_count": 45,
      "outputs": [
        {
          "output_type": "stream",
          "text": [
            "{'brand': 'Mazda', 'Model': 'Mazda 2', 'year': 2016, 'door': 5, 'Accessories': ['Bose audio', 'Light', 'skirt']}\n"
          ],
          "name": "stdout"
        }
      ]
    },
    {
      "cell_type": "code",
      "metadata": {
        "id": "1ecxNWMu9th8",
        "outputId": "f4c34752-9670-49b8-e113-8ae781cc0d1b",
        "colab": {
          "base_uri": "https://localhost:8080/"
        }
      },
      "source": [
        "cars.keys()"
      ],
      "execution_count": 46,
      "outputs": [
        {
          "output_type": "execute_result",
          "data": {
            "text/plain": [
              "dict_keys(['brand', 'Model', 'year', 'door', 'Accessories'])"
            ]
          },
          "metadata": {
            "tags": []
          },
          "execution_count": 46
        }
      ]
    },
    {
      "cell_type": "code",
      "metadata": {
        "id": "_-pZajgx9x1U",
        "outputId": "0ba4a7ee-0449-4d5b-bf37-6565e81cf1b1",
        "colab": {
          "base_uri": "https://localhost:8080/"
        }
      },
      "source": [
        "cars.values()"
      ],
      "execution_count": 47,
      "outputs": [
        {
          "output_type": "execute_result",
          "data": {
            "text/plain": [
              "dict_values(['Mazda', 'Mazda 2', 2016, 5, ['Bose audio', 'Light', 'skirt']])"
            ]
          },
          "metadata": {
            "tags": []
          },
          "execution_count": 47
        }
      ]
    },
    {
      "cell_type": "code",
      "metadata": {
        "id": "yk84MiDW91PE",
        "outputId": "9ae529fe-181b-4d87-e00d-ef37de213737",
        "colab": {
          "base_uri": "https://localhost:8080/"
        }
      },
      "source": [
        "cars.items()"
      ],
      "execution_count": 48,
      "outputs": [
        {
          "output_type": "execute_result",
          "data": {
            "text/plain": [
              "dict_items([('brand', 'Mazda'), ('Model', 'Mazda 2'), ('year', 2016), ('door', 5), ('Accessories', ['Bose audio', 'Light', 'skirt'])])"
            ]
          },
          "metadata": {
            "tags": []
          },
          "execution_count": 48
        }
      ]
    },
    {
      "cell_type": "code",
      "metadata": {
        "id": "qBHhNqbs-AdD",
        "outputId": "9360baa2-155d-4263-aa2d-ef05596283ac",
        "colab": {
          "base_uri": "https://localhost:8080/"
        }
      },
      "source": [
        "\"Model\" in cars"
      ],
      "execution_count": 49,
      "outputs": [
        {
          "output_type": "execute_result",
          "data": {
            "text/plain": [
              "True"
            ]
          },
          "metadata": {
            "tags": []
          },
          "execution_count": 49
        }
      ]
    },
    {
      "cell_type": "code",
      "metadata": {
        "id": "h99hv_N5-Mnb",
        "outputId": "8b5fece9-59f3-4025-b405-7ec0ed9d8601",
        "colab": {
          "base_uri": "https://localhost:8080/",
          "height": 34
        }
      },
      "source": [
        "# get information from dictionary\n",
        "cars[\"Model\"]"
      ],
      "execution_count": 50,
      "outputs": [
        {
          "output_type": "execute_result",
          "data": {
            "application/vnd.google.colaboratory.intrinsic+json": {
              "type": "string"
            },
            "text/plain": [
              "'Mazda 2'"
            ]
          },
          "metadata": {
            "tags": []
          },
          "execution_count": 50
        }
      ]
    },
    {
      "cell_type": "code",
      "metadata": {
        "id": "v6IRjCtB-yjH",
        "outputId": "631a209d-f36e-4fc1-8bd2-9adc9b56325e",
        "colab": {
          "base_uri": "https://localhost:8080/"
        }
      },
      "source": [
        "#Real world dictionary\n",
        "customers = {\n",
        "    \"name\" : \"David\",\n",
        "    \"age\" : 35,\n",
        "    \"location\" : \"London\",\n",
        "    \"movie_lover\" : True,\n",
        "    \"movie_top_tree\": [\"Avengers\", \"Thor\", \"Tenet\"]\n",
        "\n",
        "}\n",
        "\n",
        "customers"
      ],
      "execution_count": 51,
      "outputs": [
        {
          "output_type": "execute_result",
          "data": {
            "text/plain": [
              "{'age': 35,\n",
              " 'location': 'London',\n",
              " 'movie_lover': True,\n",
              " 'movie_top_tree': ['Avengers', 'Thor', 'Tenet'],\n",
              " 'name': 'David'}"
            ]
          },
          "metadata": {
            "tags": []
          },
          "execution_count": 51
        }
      ]
    },
    {
      "cell_type": "code",
      "metadata": {
        "id": "WYwxK-xn_kEB",
        "outputId": "d61a96c6-911a-44d5-bea9-a1e4d27ff1b5",
        "colab": {
          "base_uri": "https://localhost:8080/"
        }
      },
      "source": [
        "#creat new key\n",
        "customers[\"spending\"] = 3500\n",
        "customers"
      ],
      "execution_count": 57,
      "outputs": [
        {
          "output_type": "execute_result",
          "data": {
            "text/plain": [
              "{'age': 35,\n",
              " 'location': 'London',\n",
              " 'movie_lover': True,\n",
              " 'movie_top_tree': ['Avengers', 'Thor', 'Tenet'],\n",
              " 'name': 'David',\n",
              " 'spending': 3500}"
            ]
          },
          "metadata": {
            "tags": []
          },
          "execution_count": 57
        }
      ]
    },
    {
      "cell_type": "code",
      "metadata": {
        "id": "x9caH2b__yrW",
        "outputId": "c2e4a5de-1a35-4cc3-8631-bf5c94ca2519",
        "colab": {
          "base_uri": "https://localhost:8080/"
        }
      },
      "source": [
        "# update value\n",
        "customers[\"spending\"] += 6500\n",
        "customers"
      ],
      "execution_count": 58,
      "outputs": [
        {
          "output_type": "execute_result",
          "data": {
            "text/plain": [
              "{'age': 35,\n",
              " 'location': 'London',\n",
              " 'movie_lover': True,\n",
              " 'movie_top_tree': ['Avengers', 'Thor', 'Tenet'],\n",
              " 'name': 'David',\n",
              " 'spending': 10000}"
            ]
          },
          "metadata": {
            "tags": []
          },
          "execution_count": 58
        }
      ]
    },
    {
      "cell_type": "code",
      "metadata": {
        "id": "q8oo_KudAVKm",
        "outputId": "1c0199f5-3db6-42c8-c787-d22e35a171b3",
        "colab": {
          "base_uri": "https://localhost:8080/"
        }
      },
      "source": [
        "print(customers[\"movie_top_tree\"][0])\n",
        "print(customers[\"movie_top_tree\"][1])\n",
        "print(customers[\"movie_top_tree\"][0:2])"
      ],
      "execution_count": 64,
      "outputs": [
        {
          "output_type": "stream",
          "text": [
            "Avengers\n",
            "Thor\n",
            "['Avengers', 'Thor']\n"
          ],
          "name": "stdout"
        }
      ]
    },
    {
      "cell_type": "code",
      "metadata": {
        "id": "nS0YGew3A5O4",
        "outputId": "f98d5ebb-24ae-460f-ec14-d9ef000723c6",
        "colab": {
          "base_uri": "https://localhost:8080/"
        }
      },
      "source": [
        "#nested dictionary\n",
        "\n",
        "customers = {\n",
        "    \"ID001\": {\n",
        "    \"name\" : \"David\",\n",
        "    \"age\" : 35,\n",
        "    \"location\" : \"London\",\n",
        "    \"movie_lover\" : True,\n",
        "    \"movie_top_tree\": [\"Avengers\", \"Thor\", \"Tenet\"],\n",
        "    \"mobile_operator\": \"Truemove\"\n",
        "    },\n",
        "    \"ID002\": {\n",
        "    \"name\" : \"Anna\",\n",
        "    \"age\" : 28,\n",
        "    \"location\" : \"Seoul\",\n",
        "    \"movie_lover\" : True,\n",
        "    \"movie_top_tree\": [\"The dark knight\", \"Justice League\", \"Spider Man\"],\n",
        "    \"favorite_food\": \"Tomyum Goong\"\n",
        "    },\n",
        "    \"ID003\": {\n",
        "    \"name\" : \"Takashi\",\n",
        "    \"age\" : 26,\n",
        "    \"location\" : \"Tokyo\",\n",
        "    \"movie_lover\" : False,\n",
        "    \"movie_top_tree\": []\n",
        "    }\n",
        "\n",
        "}\n",
        "\n",
        "customers"
      ],
      "execution_count": 73,
      "outputs": [
        {
          "output_type": "execute_result",
          "data": {
            "text/plain": [
              "{'ID001': {'age': 35,\n",
              "  'location': 'London',\n",
              "  'mobile_operator': 'Truemove',\n",
              "  'movie_lover': True,\n",
              "  'movie_top_tree': ['Avengers', 'Thor', 'Tenet'],\n",
              "  'name': 'David'},\n",
              " 'ID002': {'age': 28,\n",
              "  'favorite_food': 'Tomyum Goong',\n",
              "  'location': 'Seoul',\n",
              "  'movie_lover': True,\n",
              "  'movie_top_tree': ['The dark knight', 'Justice League', 'Spider Man'],\n",
              "  'name': 'Anna'},\n",
              " 'ID003': {'age': 26,\n",
              "  'location': 'Tokyo',\n",
              "  'movie_lover': False,\n",
              "  'movie_top_tree': [],\n",
              "  'name': 'Takashi'}}"
            ]
          },
          "metadata": {
            "tags": []
          },
          "execution_count": 73
        }
      ]
    },
    {
      "cell_type": "code",
      "metadata": {
        "id": "E2HBKaGyCKQk",
        "outputId": "03ced64f-2137-47b5-f7e8-c643150d5622",
        "colab": {
          "base_uri": "https://localhost:8080/",
          "height": 34
        }
      },
      "source": [
        "customers[\"ID001\"][\"mobile_operator\"]"
      ],
      "execution_count": 79,
      "outputs": [
        {
          "output_type": "execute_result",
          "data": {
            "application/vnd.google.colaboratory.intrinsic+json": {
              "type": "string"
            },
            "text/plain": [
              "'Truemove'"
            ]
          },
          "metadata": {
            "tags": []
          },
          "execution_count": 79
        }
      ]
    },
    {
      "cell_type": "code",
      "metadata": {
        "id": "7VUpidGGDAuH",
        "outputId": "233c1b83-0338-4954-9d8c-1b8305d4ee66",
        "colab": {
          "base_uri": "https://localhost:8080/",
          "height": 34
        }
      },
      "source": [
        "customers[\"ID002\"][\"movie_top_tree\"][0]"
      ],
      "execution_count": 78,
      "outputs": [
        {
          "output_type": "execute_result",
          "data": {
            "application/vnd.google.colaboratory.intrinsic+json": {
              "type": "string"
            },
            "text/plain": [
              "'The dark knight'"
            ]
          },
          "metadata": {
            "tags": []
          },
          "execution_count": 78
        }
      ]
    },
    {
      "cell_type": "code",
      "metadata": {
        "id": "Y-856oEqDWh6",
        "outputId": "ee9f03ba-810b-4107-f968-2ee76503587d",
        "colab": {
          "base_uri": "https://localhost:8080/"
        }
      },
      "source": [
        "\"mobile_operator\" in customers[\"ID002\"]"
      ],
      "execution_count": 81,
      "outputs": [
        {
          "output_type": "execute_result",
          "data": {
            "text/plain": [
              "False"
            ]
          },
          "metadata": {
            "tags": []
          },
          "execution_count": 81
        }
      ]
    },
    {
      "cell_type": "markdown",
      "metadata": {
        "id": "DtuwfaCfEFG2"
      },
      "source": [
        "# **Control flow**\n",
        "- if\n",
        "- for\n",
        "-while"
      ]
    },
    {
      "cell_type": "code",
      "metadata": {
        "id": "NXX9dwosEOcd"
      },
      "source": [
        "# menu my food\n",
        "days = [\"weekday\", \"weekend\"]\n",
        "times = [\"breakfast\", \"dinner\"]"
      ],
      "execution_count": 82,
      "outputs": []
    },
    {
      "cell_type": "code",
      "metadata": {
        "id": "1Ch0p2CEEkIj",
        "outputId": "2d4b6276-e896-4be0-f8ad-0bd066f8f6ad",
        "colab": {
          "base_uri": "https://localhost:8080/"
        }
      },
      "source": [
        "day = \"weekday\"\n",
        "time = \"breakfast\"\n",
        "\n",
        "if day == \"weekday\" and time == \"breakfast\":\n",
        "    print(\"My menu is banana.\")\n",
        "elif day == \"weekday\" and time == \"dinner\":\n",
        "    print(\"My menu is pizza.\")\n",
        "elif day == \"weekend\" and time == \"breakfast\":\n",
        "    print(\"My menu is milk and bread.\")\n",
        "else:\n",
        "    print(\"I can eat anything\")"
      ],
      "execution_count": 84,
      "outputs": [
        {
          "output_type": "stream",
          "text": [
            "My menu is banana.\n"
          ],
          "name": "stdout"
        }
      ]
    },
    {
      "cell_type": "code",
      "metadata": {
        "id": "k-BGJj3lFstO",
        "outputId": "a26fcb78-ff37-4624-d5fd-32149d88afc7",
        "colab": {
          "base_uri": "https://localhost:8080/"
        }
      },
      "source": [
        "#menu food\n",
        "days = [\"weekday\", \"weekend\"]\n",
        "times = [\"breakfast\", \"dinner\"]\n",
        "menus = [\"banana\", \"pizza\", \"milk and bread\"]\n",
        "\n",
        "#input\n",
        "day = input(\"Today is weekday or weekend?\")\n",
        "time = input(\"breakfast or dinner\")\n",
        "\n",
        "#program\n",
        "if day == days[0] and time == times[0]:\n",
        "    print(f\"My menu is {menus[0]}.\")\n",
        "elif day == days[0] and time == times[1]:\n",
        "    print(f\"My menu is {menus[1]}.\")\n",
        "elif day == days[1] and time == times[0]:\n",
        "    print(f\"My menu is {menus[2]}.\")\n",
        "else:\n",
        "    print(\"I can eat anything\")"
      ],
      "execution_count": 89,
      "outputs": [
        {
          "output_type": "stream",
          "text": [
            "Today is weekday or weekend?weekday\n",
            "breakfast or dinnerdinner\n",
            "My menu is pizza.\n"
          ],
          "name": "stdout"
        }
      ]
    },
    {
      "cell_type": "code",
      "metadata": {
        "id": "u5xAhpvwHjAp",
        "outputId": "0e08e919-5f36-4ef0-849d-ae6a23f640d6",
        "colab": {
          "base_uri": "https://localhost:8080/"
        }
      },
      "source": [
        "#While loop\n",
        "count = 0\n",
        "while count < 5:\n",
        "    print(f\"Hello {count}\")\n",
        "    count += 1"
      ],
      "execution_count": 92,
      "outputs": [
        {
          "output_type": "stream",
          "text": [
            "Hello 0\n",
            "Hello 1\n",
            "Hello 2\n",
            "Hello 3\n",
            "Hello 4\n"
          ],
          "name": "stdout"
        }
      ]
    },
    {
      "cell_type": "code",
      "metadata": {
        "id": "dC1rc6UdITVt",
        "outputId": "9000eec0-94fa-4091-ed75-e02ab127311f",
        "colab": {
          "base_uri": "https://localhost:8080/"
        }
      },
      "source": [
        "status = True\n",
        "count = 0\n",
        "while status:\n",
        "    print(f\"Hello World {count}\")\n",
        "    count += 1\n",
        "    if count > 10:\n",
        "        status = False"
      ],
      "execution_count": 96,
      "outputs": [
        {
          "output_type": "stream",
          "text": [
            "Hello World 0\n",
            "Hello World 1\n",
            "Hello World 2\n",
            "Hello World 3\n",
            "Hello World 4\n",
            "Hello World 5\n",
            "Hello World 6\n",
            "Hello World 7\n",
            "Hello World 8\n",
            "Hello World 9\n",
            "Hello World 10\n"
          ],
          "name": "stdout"
        }
      ]
    },
    {
      "cell_type": "markdown",
      "metadata": {
        "id": "B7D1nOuaCXMJ"
      },
      "source": [
        "# **Function**"
      ]
    },
    {
      "cell_type": "code",
      "metadata": {
        "id": "NRxpiItvCar5"
      },
      "source": [
        "def add_two_nums(a, b):\n",
        "    return a + b"
      ],
      "execution_count": null,
      "outputs": []
    },
    {
      "cell_type": "code",
      "metadata": {
        "colab": {
          "base_uri": "https://localhost:8080/"
        },
        "id": "lRIKTY8KCrcs",
        "outputId": "5a9b135a-6db3-4582-e097-25a879d2baa9"
      },
      "source": [
        "result = add_two_nums(10,30)\n",
        "print(result)"
      ],
      "execution_count": null,
      "outputs": [
        {
          "output_type": "stream",
          "text": [
            "40\n"
          ],
          "name": "stdout"
        }
      ]
    },
    {
      "cell_type": "code",
      "metadata": {
        "id": "UltjEPBNDJcb"
      },
      "source": [
        "## greeting a user\n",
        "def greeting():\n",
        "    username = input(\"What is your name? \")\n",
        "    print(\"Hello \" + username)\n",
        "    feeling = input(\"How are you today? \")\n",
        "    print(f\"{username} feel {feeling}!\")\n",
        "    print(\"That's great, hope you are wll!\")\n",
        "   "
      ],
      "execution_count": null,
      "outputs": []
    },
    {
      "cell_type": "code",
      "metadata": {
        "colab": {
          "base_uri": "https://localhost:8080/"
        },
        "id": "TeOQxcyfDwPh",
        "outputId": "d63afbf7-de70-44ec-d793-b444af1916cb"
      },
      "source": [
        "greeting()"
      ],
      "execution_count": null,
      "outputs": [
        {
          "output_type": "stream",
          "text": [
            "What is your name? benz\n",
            "Hello benz\n",
            "How are you today? good\n",
            "benz feel good!\n",
            "That's great, hope you are wll!\n"
          ],
          "name": "stdout"
        }
      ]
    },
    {
      "cell_type": "code",
      "metadata": {
        "id": "YDXVpI1MJPMP"
      },
      "source": [
        "def my_menu():\n",
        "        #menu food\n",
        "    days = [\"weekday\", \"weekend\"]\n",
        "    times = [\"breakfast\", \"dinner\"]\n",
        "    menus = [\"banana\", \"pizza\", \"milk and bread\"]\n",
        "\n",
        "    #input\n",
        "    day = input(\"Today is weekday or weekend?\")\n",
        "    time = input(\"breakfast or dinner\")\n",
        "\n",
        "    #program\n",
        "    if day == days[0] and time == times[0]:\n",
        "        print(f\"My menu is {menus[0]}.\")\n",
        "    elif day == days[0] and time == times[1]:\n",
        "        print(f\"My menu is {menus[1]}.\")\n",
        "    elif day == days[1] and time == times[0]:\n",
        "        print(f\"My menu is {menus[2]}.\")\n",
        "    else:\n",
        "        print(\"I can eat anything\")"
      ],
      "execution_count": 97,
      "outputs": []
    },
    {
      "cell_type": "code",
      "metadata": {
        "id": "U_HOFGwpJdId",
        "outputId": "d25a6949-a97a-4cfe-98bc-a89827c6ee46",
        "colab": {
          "base_uri": "https://localhost:8080/"
        }
      },
      "source": [
        "my_menu()"
      ],
      "execution_count": 98,
      "outputs": [
        {
          "output_type": "stream",
          "text": [
            "Today is weekday or weekend?weekday\n",
            "breakfast or dinnerdinner\n",
            "My menu is pizza.\n"
          ],
          "name": "stdout"
        }
      ]
    }
  ]
}