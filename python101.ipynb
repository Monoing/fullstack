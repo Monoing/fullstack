{
  "nbformat": 4,
  "nbformat_minor": 0,
  "metadata": {
    "colab": {
      "name": "python101.ipynb",
      "provenance": [],
      "authorship_tag": "ABX9TyNWFsX5lu/WYxTn4ReSjs49",
      "include_colab_link": true
    },
    "kernelspec": {
      "name": "python3",
      "display_name": "Python 3"
    }
  },
  "cells": [
    {
      "cell_type": "markdown",
      "metadata": {
        "id": "view-in-github",
        "colab_type": "text"
      },
      "source": [
        "<a href=\"https://colab.research.google.com/github/Monoing/fullstack/blob/main/python101.ipynb\" target=\"_parent\"><img src=\"https://colab.research.google.com/assets/colab-badge.svg\" alt=\"Open In Colab\"/></a>"
      ]
    },
    {
      "cell_type": "markdown",
      "metadata": {
        "id": "sUiHEB_TrKFi"
      },
      "source": [
        "# **Into python 101**\n",
        "- variable\n",
        "\n",
        "- data type\n",
        "\n",
        "- data structure: list, tuple\n",
        "\n",
        "- function\n",
        "\n"
      ]
    },
    {
      "cell_type": "code",
      "metadata": {
        "colab": {
          "base_uri": "https://localhost:8080/"
        },
        "id": "DWOTiRs3rDk2",
        "outputId": "e5dda985-7ffd-47cb-e0bd-176fef822e0f"
      },
      "source": [
        "#basic calculation\n",
        "print(1+1)\n",
        "print(2*2)\n",
        "print(10-2)\n",
        "print(5/2)\n",
        "print(5//2) ##floor division เอา ส่วน\n",
        "print(5**3) ##power\n",
        "print(9 % 2) ## mod เอา เศ๋ษ\n"
      ],
      "execution_count": null,
      "outputs": [
        {
          "output_type": "stream",
          "text": [
            "2\n",
            "4\n",
            "8\n",
            "2.5\n",
            "2\n",
            "125\n",
            "1\n"
          ],
          "name": "stdout"
        }
      ]
    },
    {
      "cell_type": "markdown",
      "metadata": {
        "id": "JK6qLDlzszPp"
      },
      "source": [
        "# **Variable**"
      ]
    },
    {
      "cell_type": "code",
      "metadata": {
        "id": "1kZs44bDs6do"
      },
      "source": [
        "#variable assigment\n",
        "salary = 50000\n",
        "expanse = 34000\n",
        "saving = salary - expanse"
      ],
      "execution_count": null,
      "outputs": []
    },
    {
      "cell_type": "code",
      "metadata": {
        "colab": {
          "base_uri": "https://localhost:8080/"
        },
        "id": "5lJD-U1euMNQ",
        "outputId": "d4ead437-130d-47f7-c061-5c5b4fe5dade"
      },
      "source": [
        "print(f\"saving = {saving} \")"
      ],
      "execution_count": null,
      "outputs": [
        {
          "output_type": "stream",
          "text": [
            "saving = 16000 \n"
          ],
          "name": "stdout"
        }
      ]
    },
    {
      "cell_type": "code",
      "metadata": {
        "id": "Uvp0LeT-urH2"
      },
      "source": [
        "#delete variable\n",
        "# del saving"
      ],
      "execution_count": null,
      "outputs": []
    },
    {
      "cell_type": "code",
      "metadata": {
        "colab": {
          "base_uri": "https://localhost:8080/"
        },
        "id": "iVQ63tSXvQLF",
        "outputId": "81c8c0fc-a69b-4a70-822a-9fa9cb4b13dd"
      },
      "source": [
        "## tuple unpacking (multiple assigment)\n",
        "my_name, my_salary, my_expanse = \"Benz\", 50000, 34000\n",
        "print(my_name)\n",
        "print(my_salary)\n",
        "print(my_expanse)"
      ],
      "execution_count": null,
      "outputs": [
        {
          "output_type": "stream",
          "text": [
            "Benz\n",
            "50000\n",
            "34000\n"
          ],
          "name": "stdout"
        }
      ]
    },
    {
      "cell_type": "markdown",
      "metadata": {
        "id": "qH_IgTAwwQzl"
      },
      "source": [
        "# String"
      ]
    },
    {
      "cell_type": "code",
      "metadata": {
        "colab": {
          "base_uri": "https://localhost:8080/"
        },
        "id": "KzQYkgtKwY0M",
        "outputId": "01f0ab0a-d39d-466d-a4c7-b6e7ebc2505a"
      },
      "source": [
        "name = 'benz'\n",
        "print(name)\n",
        "text = \"I'm learning python\"\n",
        "print(text)\n",
        "text2 = 'I am learning \"python\"'\n",
        "print(text2)\n",
        "text3 = 'I\\'m learning \\'python\\'' ## escaping character \\\n",
        "print(text3)\n",
        "text4 = \"\"\" This is very long string\n",
        "This is very long stringThis is very long string\n",
        "This is very long string \"\"\"\n",
        "print(text4)\n"
      ],
      "execution_count": null,
      "outputs": [
        {
          "output_type": "stream",
          "text": [
            "benz\n",
            "I'm learning python\n",
            "I am learning \"python\"\n",
            "I'm learning 'python'\n",
            " This is very long string\n",
            "This is very long stringThis is very long string\n",
            "This is very long string \n"
          ],
          "name": "stdout"
        }
      ]
    },
    {
      "cell_type": "code",
      "metadata": {
        "colab": {
          "base_uri": "https://localhost:8080/"
        },
        "id": "swLnIH0Gx8bE",
        "outputId": "5ce65511-1fac-4e1f-9ef2-d004eccaf1fc"
      },
      "source": [
        "#print string\n",
        "print(\"Hello\", \"Wolrd\", \"Python\")"
      ],
      "execution_count": null,
      "outputs": [
        {
          "output_type": "stream",
          "text": [
            "Hello Wolrd Python\n"
          ],
          "name": "stdout"
        }
      ]
    },
    {
      "cell_type": "code",
      "metadata": {
        "colab": {
          "base_uri": "https://localhost:8080/",
          "height": 34
        },
        "id": "6Uz9TJMEyK9L",
        "outputId": "3fc6b483-7c3c-40d4-b733-cd037104a25b"
      },
      "source": [
        "\"Hello\" + \" world\""
      ],
      "execution_count": null,
      "outputs": [
        {
          "output_type": "execute_result",
          "data": {
            "application/vnd.google.colaboratory.intrinsic+json": {
              "type": "string"
            },
            "text/plain": [
              "'Hello world'"
            ]
          },
          "metadata": {
            "tags": []
          },
          "execution_count": 33
        }
      ]
    },
    {
      "cell_type": "code",
      "metadata": {
        "colab": {
          "base_uri": "https://localhost:8080/"
        },
        "id": "t_Ic25RbyWQK",
        "outputId": "3af76355-36f8-411f-b634-436d83d2fa92"
      },
      "source": [
        "#fstring\n",
        "my_name = \"Benz\"\n",
        "my_age  = 26\n",
        "\n",
        "text = f\"Hello! my name is {my_name} and I am {my_age} years old.\"\n",
        "print(text)"
      ],
      "execution_count": null,
      "outputs": [
        {
          "output_type": "stream",
          "text": [
            "Hello! my name is Benz and I am 26 years old.\n"
          ],
          "name": "stdout"
        }
      ]
    },
    {
      "cell_type": "code",
      "metadata": {
        "colab": {
          "base_uri": "https://localhost:8080/",
          "height": 34
        },
        "id": "WzzlPov3zFcd",
        "outputId": "5ead78bc-3829-448e-d386-8b87a1e9b129"
      },
      "source": [
        "# method = function design for specific class\n",
        "#string method\n",
        "\n",
        "text = \"a duck walks into a bar.\"\n",
        "text.upper()"
      ],
      "execution_count": 1,
      "outputs": [
        {
          "output_type": "execute_result",
          "data": {
            "application/vnd.google.colaboratory.intrinsic+json": {
              "type": "string"
            },
            "text/plain": [
              "'A DUCK WALKS INTO A BAR.'"
            ]
          },
          "metadata": {
            "tags": []
          },
          "execution_count": 1
        }
      ]
    },
    {
      "cell_type": "code",
      "metadata": {
        "colab": {
          "base_uri": "https://localhost:8080/",
          "height": 34
        },
        "id": "dlIKxPi1zhN4",
        "outputId": "d435ba45-4d53-4fe3-ad3b-13c7d338109f"
      },
      "source": [
        "text.capitalize()"
      ],
      "execution_count": null,
      "outputs": [
        {
          "output_type": "execute_result",
          "data": {
            "application/vnd.google.colaboratory.intrinsic+json": {
              "type": "string"
            },
            "text/plain": [
              "'A duck walks into a bar.'"
            ]
          },
          "metadata": {
            "tags": []
          },
          "execution_count": 37
        }
      ]
    },
    {
      "cell_type": "code",
      "metadata": {
        "colab": {
          "base_uri": "https://localhost:8080/"
        },
        "id": "LFQgR5sczlI0",
        "outputId": "cdfd6b71-f749-4d93-db82-fd2b9ce6bb6f"
      },
      "source": [
        "text.count(\"a\")"
      ],
      "execution_count": null,
      "outputs": [
        {
          "output_type": "execute_result",
          "data": {
            "text/plain": [
              "4"
            ]
          },
          "metadata": {
            "tags": []
          },
          "execution_count": 39
        }
      ]
    },
    {
      "cell_type": "code",
      "metadata": {
        "colab": {
          "base_uri": "https://localhost:8080/",
          "height": 34
        },
        "id": "Ydm-foKyzvQ4",
        "outputId": "f689ac71-ccbd-4536-9f4a-271dba5fa0ed"
      },
      "source": [
        "text.replace(\"duck\",\"chicken\")"
      ],
      "execution_count": null,
      "outputs": [
        {
          "output_type": "execute_result",
          "data": {
            "application/vnd.google.colaboratory.intrinsic+json": {
              "type": "string"
            },
            "text/plain": [
              "'a chicken walks into a bar.'"
            ]
          },
          "metadata": {
            "tags": []
          },
          "execution_count": 40
        }
      ]
    },
    {
      "cell_type": "code",
      "metadata": {
        "id": "QvKK-Hm1tKvY",
        "outputId": "583059ae-468c-446a-9e13-873312908dc7",
        "colab": {
          "base_uri": "https://localhost:8080/"
        }
      },
      "source": [
        "tokens = text.split(\" \")\n",
        "print(tokens)"
      ],
      "execution_count": 2,
      "outputs": [
        {
          "output_type": "stream",
          "text": [
            "['a', 'duck', 'walks', 'into', 'a', 'bar.']\n"
          ],
          "name": "stdout"
        }
      ]
    },
    {
      "cell_type": "code",
      "metadata": {
        "id": "y-Mm-gh1tYph",
        "outputId": "21c7fef2-f2a9-48d0-d4d1-0cf0303d2690",
        "colab": {
          "base_uri": "https://localhost:8080/"
        }
      },
      "source": [
        "text = \" \".join(tokens)\n",
        "print(text)"
      ],
      "execution_count": 4,
      "outputs": [
        {
          "output_type": "stream",
          "text": [
            "a duck walks into a bar.\n"
          ],
          "name": "stdout"
        }
      ]
    },
    {
      "cell_type": "markdown",
      "metadata": {
        "id": "BYBgvvau0MnQ"
      },
      "source": [
        "# **Data type**\n",
        "- int\n",
        "- float\n",
        "- string\n",
        "- bool (boolean)"
      ]
    },
    {
      "cell_type": "code",
      "metadata": {
        "colab": {
          "base_uri": "https://localhost:8080/"
        },
        "id": "25qd0w2E9eGx",
        "outputId": "740ad176-104e-44c4-806f-ef7e75f76807"
      },
      "source": [
        "#int \n",
        "x = 100\n",
        "type(x)"
      ],
      "execution_count": null,
      "outputs": [
        {
          "output_type": "execute_result",
          "data": {
            "text/plain": [
              "int"
            ]
          },
          "metadata": {
            "tags": []
          },
          "execution_count": 41
        }
      ]
    },
    {
      "cell_type": "code",
      "metadata": {
        "colab": {
          "base_uri": "https://localhost:8080/"
        },
        "id": "n45ksD8V9qEo",
        "outputId": "86700a84-5172-4ccc-8428-4ae47348fdf5"
      },
      "source": [
        "#float\n",
        "x = 1.5\n",
        "type(x)"
      ],
      "execution_count": null,
      "outputs": [
        {
          "output_type": "execute_result",
          "data": {
            "text/plain": [
              "float"
            ]
          },
          "metadata": {
            "tags": []
          },
          "execution_count": 42
        }
      ]
    },
    {
      "cell_type": "code",
      "metadata": {
        "colab": {
          "base_uri": "https://localhost:8080/"
        },
        "id": "YJ5-5kjt9vIo",
        "outputId": "7763f0b1-e1f3-4c7a-9001-ceb10654077a"
      },
      "source": [
        "#string\n",
        "text = \"hello\"\n",
        "type(text)"
      ],
      "execution_count": null,
      "outputs": [
        {
          "output_type": "execute_result",
          "data": {
            "text/plain": [
              "str"
            ]
          },
          "metadata": {
            "tags": []
          },
          "execution_count": 43
        }
      ]
    },
    {
      "cell_type": "code",
      "metadata": {
        "colab": {
          "base_uri": "https://localhost:8080/"
        },
        "id": "fnBwhV0i92SB",
        "outputId": "dd7d6ab2-0ecd-4886-996c-6294290bdc6d"
      },
      "source": [
        "#bool\n",
        "print(10*2 == 20)\n",
        "print(10*2 > 30)\n",
        "print(\"Hello\" != \"hello\")"
      ],
      "execution_count": null,
      "outputs": [
        {
          "output_type": "stream",
          "text": [
            "True\n",
            "False\n",
            "True\n"
          ],
          "name": "stdout"
        }
      ]
    },
    {
      "cell_type": "markdown",
      "metadata": {
        "id": "p-j4WZnP-VqI"
      },
      "source": [
        "# **Data Structure**\n",
        "- list\n",
        "- tuple\n",
        "- dictionary\n",
        "- set"
      ]
    },
    {
      "cell_type": "code",
      "metadata": {
        "colab": {
          "base_uri": "https://localhost:8080/"
        },
        "id": "8mN15BCT-dCb",
        "outputId": "918c0d02-16f6-499d-9e81-344c8f0bf465"
      },
      "source": [
        "#create a new list\n",
        "fruits  = [\"apple\", \"orange\", \"pineapple\", \"grape\"] #เก็บอะไรก็ได้ int, float, str, bool\n",
        "fruits\n"
      ],
      "execution_count": null,
      "outputs": [
        {
          "output_type": "execute_result",
          "data": {
            "text/plain": [
              "['apple', 'orange', 'pineapple', 'grape']"
            ]
          },
          "metadata": {
            "tags": []
          },
          "execution_count": 62
        }
      ]
    },
    {
      "cell_type": "code",
      "metadata": {
        "colab": {
          "base_uri": "https://localhost:8080/"
        },
        "id": "Nlkjfq3a_BTn",
        "outputId": "163a1bfb-1cfb-4dae-fc86-0b5fc2785475"
      },
      "source": [
        "print(fruits[0])\n",
        "print(fruits[-1])"
      ],
      "execution_count": null,
      "outputs": [
        {
          "output_type": "stream",
          "text": [
            "apple\n",
            "grape\n"
          ],
          "name": "stdout"
        }
      ]
    },
    {
      "cell_type": "code",
      "metadata": {
        "colab": {
          "base_uri": "https://localhost:8080/"
        },
        "id": "di_0H9TZ_N-d",
        "outputId": "6f53c935-8fc4-4aed-e74d-59e81e130cef"
      },
      "source": [
        "print(fruits[:])\n",
        "print(fruits[:2])\n",
        "print(fruits[1:3])\n",
        "print(fruits[1:])"
      ],
      "execution_count": null,
      "outputs": [
        {
          "output_type": "stream",
          "text": [
            "['apple', 'orange', 'pineapple', 'grape']\n",
            "['apple', 'orange']\n",
            "['orange', 'pineapple']\n",
            "['orange', 'pineapple', 'grape']\n"
          ],
          "name": "stdout"
        }
      ]
    },
    {
      "cell_type": "code",
      "metadata": {
        "colab": {
          "base_uri": "https://localhost:8080/"
        },
        "id": "DTGn3r3t_4kF",
        "outputId": "daacc10e-f3c9-46c1-d83c-8d06ca40163b"
      },
      "source": [
        "## add strawberry at the end of fruit\n",
        "fruits.append(\"strawberry\")\n",
        "print(fruit)"
      ],
      "execution_count": null,
      "outputs": [
        {
          "output_type": "stream",
          "text": [
            "['apple', 'orange', 'pineapple', 'grape', 'strawberry']\n"
          ],
          "name": "stdout"
        }
      ]
    },
    {
      "cell_type": "code",
      "metadata": {
        "colab": {
          "base_uri": "https://localhost:8080/"
        },
        "id": "34ekfPgzAVSl",
        "outputId": "7e52b906-117f-4616-cfcb-ff79fd4b3596"
      },
      "source": [
        "fruits.remove(\"orange\")\n",
        "print(fruit)"
      ],
      "execution_count": null,
      "outputs": [
        {
          "output_type": "stream",
          "text": [
            "['apple', 'orange', 'pineapple', 'grape', 'strawberry']\n"
          ],
          "name": "stdout"
        }
      ]
    },
    {
      "cell_type": "code",
      "metadata": {
        "colab": {
          "base_uri": "https://localhost:8080/"
        },
        "id": "Jdzp5ohBAgej",
        "outputId": "90b19fed-eb60-421e-8d3d-7ee7410d0169"
      },
      "source": [
        "fruits.insert(1, \"orange\")\n",
        "print(fruit)"
      ],
      "execution_count": null,
      "outputs": [
        {
          "output_type": "stream",
          "text": [
            "['apple', 'orange', 'pineapple', 'grape', 'strawberry']\n"
          ],
          "name": "stdout"
        }
      ]
    },
    {
      "cell_type": "code",
      "metadata": {
        "colab": {
          "base_uri": "https://localhost:8080/"
        },
        "id": "ZAemulvSAvFU",
        "outputId": "a075e138-8709-41c0-f95b-27d2f1e510f4"
      },
      "source": [
        "# for loop (Control flow)\n",
        "len(fruit)\n",
        "\n",
        "for fruit in fruits:\n",
        "    print(fruit.upper())"
      ],
      "execution_count": null,
      "outputs": [
        {
          "output_type": "stream",
          "text": [
            "APPLE\n",
            "ORANGE\n",
            "PINEAPPLE\n",
            "GRAPE\n",
            "STRAWBERRY\n"
          ],
          "name": "stdout"
        }
      ]
    },
    {
      "cell_type": "code",
      "metadata": {
        "id": "1o7SrMeKBmNL"
      },
      "source": [
        "fruit_uppercase = []"
      ],
      "execution_count": null,
      "outputs": []
    },
    {
      "cell_type": "code",
      "metadata": {
        "colab": {
          "base_uri": "https://localhost:8080/"
        },
        "id": "YECvz16yBqYA",
        "outputId": "9868b16d-53df-43b2-e0fc-892324b917a7"
      },
      "source": [
        "for fruit in fruits:\n",
        "    x = fruit.upper()\n",
        "    fruit_uppercase.append(x)\n",
        "\n",
        "print(fruit_uppercase)"
      ],
      "execution_count": null,
      "outputs": [
        {
          "output_type": "stream",
          "text": [
            "['APPLE', 'ORANGE', 'PINEAPPLE', 'GRAPE', 'STRAWBERRY']\n"
          ],
          "name": "stdout"
        }
      ]
    },
    {
      "cell_type": "code",
      "metadata": {
        "colab": {
          "base_uri": "https://localhost:8080/"
        },
        "id": "fdp24qQ8Er5T",
        "outputId": "3bbcbc5a-3464-463a-9c5e-ea50d41e3e7d"
      },
      "source": [
        "## tuple อัปเดทค่าไม่ได้ immutable\n",
        "gpa = (3.5, 3.4, 3.89)\n",
        "print(gpa)"
      ],
      "execution_count": null,
      "outputs": [
        {
          "output_type": "stream",
          "text": [
            "(3.5, 3.4, 3.89)\n"
          ],
          "name": "stdout"
        }
      ]
    },
    {
      "cell_type": "markdown",
      "metadata": {
        "id": "B7D1nOuaCXMJ"
      },
      "source": [
        "# **Function**"
      ]
    },
    {
      "cell_type": "code",
      "metadata": {
        "id": "NRxpiItvCar5"
      },
      "source": [
        "def add_two_nums(a, b):\n",
        "    return a + b"
      ],
      "execution_count": null,
      "outputs": []
    },
    {
      "cell_type": "code",
      "metadata": {
        "colab": {
          "base_uri": "https://localhost:8080/"
        },
        "id": "lRIKTY8KCrcs",
        "outputId": "5a9b135a-6db3-4582-e097-25a879d2baa9"
      },
      "source": [
        "result = add_two_nums(10,30)\n",
        "print(result)"
      ],
      "execution_count": null,
      "outputs": [
        {
          "output_type": "stream",
          "text": [
            "40\n"
          ],
          "name": "stdout"
        }
      ]
    },
    {
      "cell_type": "code",
      "metadata": {
        "id": "UltjEPBNDJcb"
      },
      "source": [
        "## greeting a user\n",
        "def greeting():\n",
        "    username = input(\"What is your name? \")\n",
        "    print(\"Hello \" + username)\n",
        "    feeling = input(\"How are you today? \")\n",
        "    print(f\"{username} feel {feeling}!\")\n",
        "    print(\"That's great, hope you are wll!\")\n",
        "   "
      ],
      "execution_count": null,
      "outputs": []
    },
    {
      "cell_type": "code",
      "metadata": {
        "colab": {
          "base_uri": "https://localhost:8080/"
        },
        "id": "TeOQxcyfDwPh",
        "outputId": "d63afbf7-de70-44ec-d793-b444af1916cb"
      },
      "source": [
        "greeting()"
      ],
      "execution_count": null,
      "outputs": [
        {
          "output_type": "stream",
          "text": [
            "What is your name? benz\n",
            "Hello benz\n",
            "How are you today? good\n",
            "benz feel good!\n",
            "That's great, hope you are wll!\n"
          ],
          "name": "stdout"
        }
      ]
    }
  ]
}